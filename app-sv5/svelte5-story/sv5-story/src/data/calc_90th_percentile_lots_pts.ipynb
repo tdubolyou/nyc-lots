{
 "cells": [
  {
   "cell_type": "code",
   "execution_count": 2,
   "id": "7fab8409",
   "metadata": {},
   "outputs": [
    {
     "name": "stdout",
     "output_type": "stream",
     "text": [
      "90th percentile for EstUnitsBoro: 57.88\n"
     ]
    }
   ],
   "source": [
    "import json\n",
    "import numpy as np\n",
    "import pandas as pd\n",
    "\n",
    "# Path to the lots_pts.json file (adjust path if needed)\n",
    "geojson_path = '/Users/tomweatherburn/Library/CloudStorage/OneDrive-Personal/dev/nyc lots/app-sv5/svelte5-story/sv5-story/src/data/lots_pts.json'\n",
    "\n",
    "# Load the GeoJSON file\n",
    "with open(geojson_path, 'r') as f:\n",
    "    data = json.load(f)\n",
    "\n",
    "# Extract EstUnitsBoro from each feature\n",
    "est_units = []\n",
    "for feature in data['features']:\n",
    "    val = feature['properties'].get('EstUnitsBoro')\n",
    "    if val is not None:\n",
    "        try:\n",
    "            est_units.append(float(val))\n",
    "        except ValueError:\n",
    "            pass  # skip if not a number\n",
    "\n",
    "# Convert to pandas Series for convenience\n",
    "est_units_series = pd.Series(est_units)\n",
    "\n",
    "# Calculate the 90th percentile\n",
    "percentile_90 = np.percentile(est_units_series, 90)\n",
    "print(f'90th percentile for EstUnitsBoro: {percentile_90:.2f}')"
   ]
  },
  {
   "cell_type": "code",
   "execution_count": null,
   "id": "d377b54d",
   "metadata": {},
   "outputs": [],
   "source": []
  }
 ],
 "metadata": {
  "kernelspec": {
   "display_name": "base",
   "language": "python",
   "name": "python3"
  },
  "language_info": {
   "codemirror_mode": {
    "name": "ipython",
    "version": 3
   },
   "file_extension": ".py",
   "mimetype": "text/x-python",
   "name": "python",
   "nbconvert_exporter": "python",
   "pygments_lexer": "ipython3",
   "version": "3.12.2"
  }
 },
 "nbformat": 4,
 "nbformat_minor": 5
}
