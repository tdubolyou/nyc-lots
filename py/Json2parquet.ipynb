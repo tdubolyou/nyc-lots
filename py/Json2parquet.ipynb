{
 "cells": [
  {
   "cell_type": "code",
   "execution_count": 1,
   "metadata": {},
   "outputs": [],
   "source": [
    "import geopandas as gpd\n"
   ]
  },
  {
   "cell_type": "code",
   "execution_count": 2,
   "metadata": {},
   "outputs": [],
   "source": [
    "import geopandas as gpd\n",
    "\n",
    "# Load the GeoJSON file\n",
    "geojson_file = \"/Users/tomweatherburn/Library/CloudStorage/OneDrive-Personal/dev/nyc lots/data/Building Footprints.geojson\"\n",
    "gdf = gpd.read_file(geojson_file)\n",
    "\n",
    "\n"
   ]
  },
  {
   "cell_type": "code",
   "execution_count": 4,
   "metadata": {},
   "outputs": [
    {
     "name": "stdout",
     "output_type": "stream",
     "text": [
      "GeoParquet file saved to /Users/tomweatherburn/Library/CloudStorage/OneDrive-Personal/dev/nyc lots/data/nyc_blgfpts.parquet\n"
     ]
    }
   ],
   "source": [
    "# Convert and save to GeoParquet\n",
    "parquet_file = \"/Users/tomweatherburn/Library/CloudStorage/OneDrive-Personal/dev/nyc lots/data/nyc_blgfpts.parquet\"\n",
    "gdf.to_parquet(parquet_file, engine='pyarrow')\n",
    "\n",
    "print(f\"GeoParquet file saved to {parquet_file}\")"
   ]
  },
  {
   "cell_type": "code",
   "execution_count": null,
   "metadata": {},
   "outputs": [],
   "source": []
  }
 ],
 "metadata": {
  "kernelspec": {
   "display_name": "geo",
   "language": "python",
   "name": "python3"
  },
  "language_info": {
   "codemirror_mode": {
    "name": "ipython",
    "version": 3
   },
   "file_extension": ".py",
   "mimetype": "text/x-python",
   "name": "python",
   "nbconvert_exporter": "python",
   "pygments_lexer": "ipython3",
   "version": "3.10.10"
  }
 },
 "nbformat": 4,
 "nbformat_minor": 2
}
